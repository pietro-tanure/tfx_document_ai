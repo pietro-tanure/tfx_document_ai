{
 "cells": [
  {
   "cell_type": "markdown",
   "metadata": {},
   "source": [
    "# OCR with CV2 and Tesseract\n",
    "\n",
    "Optical Character Recognition (OCR) is a process that converts images of text into editable and searchable text. OCR software scans the PDF file and analyzes the pixels to identify the characters and words. OCR can be useful for extracting data from scanned or image-based PDFs, such as invoices, receipts, forms, or reports. However, OCR also has some limitations and challenges. [read more](https://www.linkedin.com/advice/0/what-pros-cons-using-ocr-vs-parsing-pdf-data-extraction)"
   ]
  },
  {
   "cell_type": "code",
   "execution_count": 13,
   "metadata": {},
   "outputs": [],
   "source": [
    "# Import required packages\n",
    "import cv2\n",
    "from datasets import load_from_disk\n",
    "import numpy as np\n",
    "import pytesseract\n",
    "import matplotlib.pyplot as plt\n",
    "\n",
    "pytesseract.pytesseract.tesseract_cmd = '/usr/bin/tesseract'"
   ]
  },
  {
   "cell_type": "markdown",
   "metadata": {},
   "source": [
    "### Load Dataset"
   ]
  },
  {
   "cell_type": "code",
   "execution_count": 14,
   "metadata": {},
   "outputs": [],
   "source": [
    "dataset = load_from_disk(\"../data/raw/DocLayNet-small\")\n",
    "dataset.set_format(\"pandas\")\n",
    "dataset = dataset.remove_columns(['bboxes_line','page_hash','original_filename','page_no','coco_width','coco_height','collection','original_width','original_height','num_pages'])\n",
    "ds_train = dataset['train'][:]"
   ]
  },
  {
   "cell_type": "markdown",
   "metadata": {},
   "source": [
    "### Apply OCR to an image from the dataset"
   ]
  },
  {
   "cell_type": "code",
   "execution_count": null,
   "metadata": {},
   "outputs": [],
   "source": [
    "img = np.array(ds_train['image'][2])\n",
    "ocr_df = pytesseract.image_to_string(img)\n",
    "with open('pytesseract_image2string.txt', \"w\") as file:\n",
    "    # Write the text to the file\n",
    "    file.write(ocr_df)"
   ]
  }
 ],
 "metadata": {
  "kernelspec": {
   "display_name": "tfx_ai_document_analysis",
   "language": "python",
   "name": "python3"
  },
  "language_info": {
   "codemirror_mode": {
    "name": "ipython",
    "version": 3
   },
   "file_extension": ".py",
   "mimetype": "text/x-python",
   "name": "python",
   "nbconvert_exporter": "python",
   "pygments_lexer": "ipython3",
   "version": "3.8.18"
  },
  "orig_nbformat": 4
 },
 "nbformat": 4,
 "nbformat_minor": 2
}
